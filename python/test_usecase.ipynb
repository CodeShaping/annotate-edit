{
 "cells": [
  {
   "cell_type": "code",
   "execution_count": 9,
   "metadata": {},
   "outputs": [
    {
     "name": "stdout",
     "output_type": "stream",
     "text": [
      "Filtered Data: [{'item': 'apple', 'quantity': 10, 'price_per_unit': 0.5}, {'item': 'cherry', 'quantity': 20, 'price_per_unit': 1.5}]\n",
      "Normalized Data: [{'item': 'apple', 'quantity': 10, 'price_per_unit': 0.3}, {'item': 'cherry', 'quantity': 20, 'price_per_unit': 0.9}]\n",
      "Discounted Data: [{'item': 'apple', 'quantity': 10, 'price_per_unit': 0.3}, {'item': 'cherry', 'quantity': 20, 'price_per_unit': 0.9}]\n",
      "Transformed Data: [{'item': 'apple', 'quantity': 10, 'price_per_unit': 0.3, 'total_price': 3.0}, {'item': 'cherry', 'quantity': 20, 'price_per_unit': 0.9, 'total_price': 18.0}]\n",
      "Summary: {'total_quantity': 30, 'total_price': 21.0}\n"
     ]
    }
   ],
   "source": [
    "from typing import List, Dict\n",
    "\n",
    "# Sample data\n",
    "sales_data = [\n",
    "    {\"item\": \"apple\", \"quantity\": 10, \"price_per_unit\": 0.5},\n",
    "    {\"item\": \"banana\", \"quantity\": 5, \"price_per_unit\": 0.2},\n",
    "    {\"item\": \"cherry\", \"quantity\": 20, \"price_per_unit\": 1.5},\n",
    "]\n",
    "\n",
    "def filter_data(data: List[Dict], min_quantity: int) -> List[Dict]:\n",
    "    return [item for item in data if item[\"quantity\"] >= min_quantity]\n",
    "\n",
    "def normalize_prices(data: List[Dict]) -> List[Dict]:\n",
    "    max_price = max(item[\"price_per_unit\"] for item in data)\n",
    "    return [{**item, \"price_per_unit\": item[\"price_per_unit\"] / max_price} for item in data]\n",
    "\n",
    "def apply_discount(data: List[Dict], discount_rate: float) -> List[Dict]:\n",
    "    return [{**item, \"price_per_unit\": item[\"price_per_unit\"] * (1 - discount_rate)} for item in data]\n",
    "\n",
    "def transform_data(data: List[Dict]) -> List[Dict]:\n",
    "    return [{**item, \"total_price\": item[\"quantity\"] * item[\"price_per_unit\"]} for item in data]\n",
    "\n",
    "def summarize_data(data: List[Dict]) -> Dict:\n",
    "    total_quantity = sum(item[\"quantity\"] for item in data)\n",
    "    total_price = sum(item[\"total_price\"] for item in data)\n",
    "    return {\"total_quantity\": total_quantity, \"total_price\": total_price}\n",
    "\n",
    "# Example usage\n",
    "filtered_data = filter_data(sales_data, 10)\n",
    "normalized_data = normalize_prices(filtered_data)\n",
    "discounted_data = apply_discount(normalized_data, 0.1)\n",
    "transformed_data = transform_data(discounted_data)\n",
    "summary = summarize_data(transformed_data)\n",
    "\n",
    "print(\"Filtered Data:\", filtered_data)\n",
    "print(\"Normalized Data:\", normalized_data)\n",
    "print(\"Discounted Data:\", discounted_data)\n",
    "print(\"Transformed Data:\", transformed_data)\n",
    "print(\"Summary:\", summary)\n"
   ]
  },
  {
   "cell_type": "code",
   "execution_count": 24,
   "metadata": {},
   "outputs": [
    {
     "name": "stdout",
     "output_type": "stream",
     "text": [
      "All Tasks:\n",
      "Task('Buy groceries', Due: 2023-05-01, Completed: False)\n",
      "Task('Read book', Due: 2023-04-25, Completed: False)\n",
      "Task('Pay bills', Due: 2023-04-20, Completed: False)\n",
      "Task('Exercise', Due: No due date, Completed: False)\n",
      "\n",
      "Tasks with Priority:\n",
      "Task('Pay bills', Due: 2023-04-20, Completed: False)\n",
      "Task('Read book', Due: 2023-04-25, Completed: False)\n",
      "Task('Buy groceries', Due: 2023-05-01, Completed: False)\n",
      "Task('Exercise', Due: No due date, Completed: False)\n"
     ]
    }
   ],
   "source": [
    "from datetime import datetime\n",
    "\n",
    "class Task:\n",
    "    def __init__(self, title, description, due_date=None):\n",
    "        self.title = title\n",
    "        self.description = description\n",
    "        self.completed = False\n",
    "        self.due_date = datetime.strptime(due_date, \"%Y-%m-%d\") if due_date else None\n",
    "\n",
    "    def mark_complete(self):\n",
    "        self.completed = True\n",
    "\n",
    "    def __str__(self):\n",
    "        due_date_str = self.due_date.strftime(\"%Y-%m-%d\") if self.due_date else \"No due date\"\n",
    "        return f\"Task('{self.title}', Due: {due_date_str}, Completed: {self.completed})\"\n",
    "\n",
    "class TaskManager:\n",
    "    def __init__(self):\n",
    "        self.tasks = []\n",
    "\n",
    "    def add_task(self, title, description, due_date=None):\n",
    "        task = Task(title, description, due_date)\n",
    "        self.tasks.append(task)\n",
    "\n",
    "    def list_tasks(self):\n",
    "        for task in self.tasks:\n",
    "            print(task)\n",
    "\n",
    "    def list_completed_tasks(self):\n",
    "        for task in self.tasks:\n",
    "            if task.completed:\n",
    "                print(task)\n",
    "\n",
    "    def list_with_priority(self):\n",
    "        sorted_tasks = sorted(self.tasks, key=lambda task: task.due_date or datetime.max)\n",
    "        for task in sorted_tasks:\n",
    "            print(task)\n",
    "\n",
    "# Example Usage\n",
    "if __name__ == \"__main__\":\n",
    "    manager = TaskManager()\n",
    "    manager.add_task(\"Buy groceries\", \"Milk, Bread, Eggs\", \"2023-05-01\")\n",
    "    manager.add_task(\"Read book\", \"Read 'Clean Code' book\", \"2023-04-25\")\n",
    "    manager.add_task(\"Pay bills\", \"Electricity and Internet\", \"2023-04-20\")\n",
    "    manager.add_task(\"Exercise\", \"Go for a run\", None)\n",
    "    print(\"All Tasks:\")\n",
    "    manager.list_tasks()\n",
    "    print(\"\\nTasks with Priority:\")\n",
    "    manager.list_with_priority()"
   ]
  },
  {
   "cell_type": "code",
   "execution_count": 22,
   "metadata": {},
   "outputs": [
    {
     "name": "stdout",
     "output_type": "stream",
     "text": [
      "Nearest neighbors to (2.5, 'banana') using Manhattan distance: [array([2.0, 'banana'], dtype=object), array([3.0, 'cherry'], dtype=object)]\n"
     ]
    },
    {
     "name": "stderr",
     "output_type": "stream",
     "text": [
      "/Users/r4yen/miniconda3/envs/ds/lib/python3.9/site-packages/sklearn/preprocessing/_encoders.py:828: FutureWarning: `sparse` was renamed to `sparse_output` in version 1.2 and will be removed in 1.4. `sparse_output` is ignored unless you leave `sparse` to its default value.\n",
      "  warnings.warn(\n"
     ]
    }
   ],
   "source": [
    "import numpy as np\n",
    "from typing import List, Tuple\n",
    "from sklearn.preprocessing import OneHotEncoder\n",
    "\n",
    "class NearestNeighborRetriever:\n",
    "    def __init__(self, data: List[Tuple[float, str]]):\n",
    "        self.data = np.array(data, dtype=object)\n",
    "        self.encoder = OneHotEncoder(sparse=False)\n",
    "        self._fit_encoder()\n",
    "    \n",
    "    def _fit_encoder(self):\n",
    "        categorical_data = [point[1] for point in self.data]\n",
    "        categorical_data = np.array(categorical_data).reshape(-1, 1)\n",
    "        self.encoder.fit(categorical_data)\n",
    "    \n",
    "    def euclidean_distance(self, point1: np.ndarray, point2: np.ndarray) -> float:\n",
    "        return np.sqrt(np.sum((point1 - point2) ** 2))\n",
    "    \n",
    "    def manhattan_distance(self, point1: np.ndarray, point2: np.ndarray) -> float:\n",
    "        return np.sum(np.abs(point1 - point2))\n",
    "    \n",
    "    def encode_categorical(self, data: List[str]) -> np.ndarray:\n",
    "        return self.encoder.transform(np.array(data).reshape(-1, 1))\n",
    "    \n",
    "    def preprocess_data(self, data: List[Tuple[float, str]]) -> np.ndarray:\n",
    "        numerical_data = np.array([point[0] for point in data])\n",
    "        categorical_data = [point[1] for point in data]\n",
    "        categorical_encoded = self.encode_categorical(categorical_data)\n",
    "        return np.hstack((numerical_data.reshape(-1, 1), categorical_encoded))\n",
    "    \n",
    "    def find_nearest_neighbors(self, query_point: Tuple[float, str], k: int, distance_metric=\"euclidean\") -> List[Tuple[float, str]]:\n",
    "        processed_data = self.preprocess_data(self.data)\n",
    "        query_point_preprocessed = self.preprocess_data([query_point])  # Preprocess the query point in the same way as the data\n",
    "        if distance_metric == \"euclidean\":\n",
    "            distances = [self.euclidean_distance(query_point_preprocessed, point) for point in processed_data]\n",
    "        elif distance_metric == \"manhattan\":\n",
    "            distances = [self.manhattan_distance(query_point_preprocessed, point) for point in processed_data]\n",
    "        else:\n",
    "            raise ValueError(\"Unsupported distance metric\")\n",
    "        nearest_indices = np.argsort(distances)[:k]\n",
    "        return [self.data[i] for i in nearest_indices]\n",
    "\n",
    "# Example Usage\n",
    "data_points = [(1.0, 'apple'), (2.0, 'banana'), (3.0, 'cherry'), (6.0, 'banana')]\n",
    "nn_retriever = NearestNeighborRetriever(data_points)\n",
    "query_point = (2.5, 'banana')\n",
    "k = 2\n",
    "nearest_neighbors = nn_retriever.find_nearest_neighbors(query_point, k, distance_metric=\"manhattan\")\n",
    "print(f\"Nearest neighbors to {query_point} using Manhattan distance: {nearest_neighbors}\")\n"
   ]
  },
  {
   "cell_type": "code",
   "execution_count": 28,
   "metadata": {},
   "outputs": [
    {
     "data": {
      "image/png": "[encoded data removed]",
      "text/plain": [
       "<Figure size 600x400 with 1 Axes>"
      ]
     },
     "metadata": {},
     "output_type": "display_data"
    },
    {
     "data": {
      "image/png": "[encoded data removed]",
      "text/plain": [
       "<Figure size 600x400 with 1 Axes>"
      ]
     },
     "metadata": {},
     "output_type": "display_data"
    },
    {
     "name": "stdout",
     "output_type": "stream",
     "text": [
      "   feature1  feature2  label\n",
      "0      0.00  0.000000      0\n",
      "1      0.25       NaN      1\n",
      "2       NaN  0.333333      0\n",
      "3      0.75  0.666667      1\n",
      "4      1.00  1.000000      1\n"
     ]
    }
   ],
   "source": [
    "import numpy as np\n",
    "import pandas as pd\n",
    "from typing import List, Dict\n",
    "import matplotlib.pyplot as plt\n",
    "import seaborn as sns\n",
    "from sklearn.preprocessing import MinMaxScaler\n",
    "\n",
    "# Sample data\n",
    "data = {\n",
    "    'feature1': [1.0, 2.0, np.nan, 4.0, 5.0],\n",
    "    'feature2': [2.0, np.nan, 3.0, 4.0, 5.0],\n",
    "    'label': [0, 1, 0, 1, 1]\n",
    "}\n",
    "df = pd.DataFrame(data)\n",
    "\n",
    "class DataProcessor:\n",
    "    def __init__(self, dataframe: pd.DataFrame):\n",
    "        self.dataframe = dataframe\n",
    "\n",
    "    def preprocess(self) -> pd.DataFrame:\n",
    "        return self.dataframe\n",
    "\n",
    "    def visualize_distribution(self):\n",
    "        feature_columns = self.dataframe.columns.drop('label')\n",
    "        for column in feature_columns:\n",
    "            plt.figure(figsize=(6, 4))\n",
    "            sns.histplot(self.dataframe[column].dropna(), kde=True)\n",
    "            plt.title(f'Distribution of {column}')\n",
    "            plt.show()\n",
    "\n",
    "    def scale_features(self) -> pd.DataFrame:\n",
    "        scaler = MinMaxScaler()\n",
    "        feature_columns = self.dataframe.columns.drop('label')\n",
    "        self.dataframe[feature_columns] = scaler.fit_transform(self.dataframe[feature_columns])\n",
    "        return self.dataframe\n",
    "\n",
    "# Example usage\n",
    "processor = DataProcessor(df)\n",
    "processor.visualize_distribution()\n",
    "processed_df = processor.scale_features()\n",
    "print(processed_df)"
   ]
  },
  {
   "cell_type": "code",
   "execution_count": 15,
   "metadata": {},
   "outputs": [
    {
     "name": "stdout",
     "output_type": "stream",
     "text": [
      "   feature1  feature2  feature3  label  feature1_squared  feature2_squared  \\\n",
      "0      0.00  0.000000  0.000000      0          0.000000          0.000000   \n",
      "1      0.25  0.500000  0.020408      1          0.125000          0.392857   \n",
      "2      0.50  0.333333  0.040816      0          0.333333          0.238095   \n",
      "3      0.75  0.666667  0.061224      1          0.625000          0.571429   \n",
      "4      1.00  1.000000  1.000000      1          1.000000          1.000000   \n",
      "\n",
      "   feature3_squared  \n",
      "0          0.000000  \n",
      "1          0.001200  \n",
      "2          0.003201  \n",
      "3          0.006002  \n",
      "4          1.000000  \n"
     ]
    }
   ],
   "source": [
    "import numpy as np\n",
    "import pandas as pd\n",
    "from typing import List, Dict\n",
    "import matplotlib.pyplot as plt\n",
    "from sklearn.preprocessing import MinMaxScaler\n",
    "import seaborn as sns\n",
    "\n",
    "\n",
    "data = {\n",
    "    'feature1': [1.0, 2.0, np.nan, 4.0, 5.0],\n",
    "    'feature2': [2.0, np.nan, 3.0, 4.0, 5.0],\n",
    "    'feature3': [0.1, 0.2, 0.3, 0.4, 5.0],\n",
    "    'label': [0, 1, 0, 1, 1]\n",
    "}\n",
    "df = pd.DataFrame(data)\n",
    "\n",
    "class DataProcessor:\n",
    "    def __init__(self, dataframe: pd.DataFrame):\n",
    "        self.dataframe = dataframe\n",
    "\n",
    "    def preprocess(self) -> pd.DataFrame:\n",
    "        return self.dataframe\n",
    "    \n",
    "    def input_missing_values(self):\n",
    "        self.dataframe.fillna(self.dataframe.mean(), inplace=True)\n",
    "        return self.dataframe\n",
    "    \n",
    "    def create_quadratic_terms(self):\n",
    "        feature_columns = self.dataframe.columns.drop('label')\n",
    "        for column in feature_columns:\n",
    "            self.dataframe[f'{column}_squared'] = self.dataframe[column] ** 2\n",
    "        return self.dataframe\n",
    "\n",
    "    def visualize_distribution(self):\n",
    "        feature_columns = self.dataframe.columns.drop('label')\n",
    "        for column in feature_columns:\n",
    "            plt.figure(figsize=(6, 4))\n",
    "            sns.histplot(self.dataframe[column].dropna(), kde=True)\n",
    "            plt.title(f'Distribution of {column}')\n",
    "            # save pdf\n",
    "            plt.savefig(f'{column}_distribution.pdf')\n",
    "            plt.show()\n",
    "\n",
    "    def scale_features(self) -> pd.DataFrame:\n",
    "        scaler = MinMaxScaler()\n",
    "        feature_columns = self.dataframe.columns.drop('label')\n",
    "        self.dataframe[feature_columns] = scaler.fit_transform(self.dataframe[feature_columns])\n",
    "        return self.dataframe\n",
    "\n",
    "\n",
    "processor = DataProcessor(df)\n",
    "processed_df = processor.input_missing_values()\n",
    "processed_df = processor.create_quadratic_terms()\n",
    "# processor.visualize_distribution()\n",
    "processed_df = processor.scale_features()\n",
    "print(processed_df)"
   ]
  },
  {
   "cell_type": "code",
   "execution_count": null,
   "metadata": {},
   "outputs": [],
   "source": []
  }
 ],
 "metadata": {
  "kernelspec": {
   "display_name": "ds",
   "language": "python",
   "name": "python3"
  },
  "language_info": {
   "codemirror_mode": {
    "name": "ipython",
    "version": 3
   },
   "file_extension": ".py",
   "mimetype": "text/x-python",
   "name": "python",
   "nbconvert_exporter": "python",
   "pygments_lexer": "ipython3",
   "version": "3.9.16"
  }
 },
 "nbformat": 4,
 "nbformat_minor": 2
}
